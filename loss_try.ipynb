{
 "cells": [
  {
   "cell_type": "code",
   "execution_count": 5,
   "metadata": {
    "ExecuteTime": {
     "end_time": "2018-06-12T23:10:08.098656Z",
     "start_time": "2018-06-12T23:10:08.077710Z"
    }
   },
   "outputs": [],
   "source": [
    "import warnings\n",
    "import torch\n",
    "from torch.nn import Module\n",
    "from torch.nn import Sequential\n",
    "from torch.nn import LogSoftmax\n",
    "from torch.nn import functional as F\n",
    "\n",
    "\n",
    "class _Loss(Module):\n",
    "    def __init__(self, size_average=True, reduce=True):\n",
    "        super(_Loss, self).__init__()\n",
    "        self.size_average = size_average\n",
    "        self.reduce = reduce\n",
    "\n",
    "\n",
    "class TripletMarginLoss(_Loss):\n",
    "    def __init__(self, margin=1.0, p=2, eps=1e-6, swap=False, size_average=True, reduce=True):\n",
    "        super(TripletMarginLoss, self).__init__(size_average, reduce)\n",
    "        self.margin = margin\n",
    "        self.p = p\n",
    "        self.eps = eps\n",
    "        self.swap = swap\n",
    "\n",
    "    def forward(self, anchor, positive, negative):\n",
    "        return F.triplet_margin_loss(anchor, positive, negative, self.margin, self.p,\n",
    "                                     self.eps, self.swap, self.size_average, self.reduce)"
   ]
  },
  {
   "cell_type": "code",
   "execution_count": null,
   "metadata": {
    "collapsed": true
   },
   "outputs": [],
   "source": []
  }
 ],
 "metadata": {
  "hide_input": false,
  "kernelspec": {
   "display_name": "pytorch",
   "language": "python",
   "name": "pytorch"
  },
  "language_info": {
   "codemirror_mode": {
    "name": "ipython",
    "version": 3
   },
   "file_extension": ".py",
   "mimetype": "text/x-python",
   "name": "python",
   "nbconvert_exporter": "python",
   "pygments_lexer": "ipython3",
   "version": "3.5.5"
  }
 },
 "nbformat": 4,
 "nbformat_minor": 1
}
