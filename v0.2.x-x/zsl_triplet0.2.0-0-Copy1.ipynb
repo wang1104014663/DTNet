{
 "cells": [
  {
   "cell_type": "code",
   "execution_count": 1,
   "metadata": {
    "ExecuteTime": {
     "end_time": "2018-09-03T12:14:56.393632Z",
     "start_time": "2018-09-03T12:14:56.149385Z"
    },
    "collapsed": true,
    "hide_input": false
   },
   "outputs": [],
   "source": [
    "import torch\n",
    "import torch.nn as nn\n",
    "import torch.nn.functional as F\n",
    "from torch.autograd import Variable\n",
    "from torch.optim.lr_scheduler import StepLR\n",
    "from torch.utils.data import DataLoader,TensorDataset\n",
    "import torch.utils.data as data\n",
    "import numpy as np\n",
    "import scipy.io as sio\n",
    "import math\n",
    "import argparse\n",
    "import random\n",
    "import os"
   ]
  },
  {
   "cell_type": "code",
   "execution_count": 2,
   "metadata": {
    "ExecuteTime": {
     "end_time": "2018-09-03T12:14:56.396696Z",
     "start_time": "2018-09-03T12:14:56.394554Z"
    },
    "collapsed": true
   },
   "outputs": [],
   "source": [
    "BATCH_SIZE = 32\n",
    "EPISODE = 1\n",
    "TEST_EPISODE = 1000\n",
    "LEARNING_RATE =1e-3\n",
    "GPU = 0\n",
    "Margin = 1"
   ]
  },
  {
   "cell_type": "code",
   "execution_count": 3,
   "metadata": {
    "ExecuteTime": {
     "end_time": "2018-09-03T12:14:58.386855Z",
     "start_time": "2018-09-03T12:14:56.397709Z"
    }
   },
   "outputs": [
    {
     "name": "stdout",
     "output_type": "stream",
     "text": [
      "init dataset\n",
      "----------------------------------------------------------------------------------------------------\n"
     ]
    }
   ],
   "source": [
    "print(\"init dataset\")\n",
    "##################################参数##################################################################\n",
    "dataroot = '../data'\n",
    "dataset = 'AwA1_data'\n",
    "image_embedding = 'res101'               #ResNet101层\n",
    "class_embedding = 'original_att'         #属性表达 85-d\n",
    "#######################################读取视觉特征###################################################################\n",
    "\n",
    "matcontent = sio.loadmat(dataroot + \"/\" + dataset + \"/\" + image_embedding + \".mat\")  #scipy loadmat\n",
    " \n",
    "feature = matcontent['features'].T         #转置 30478x2048 每一行是一个完整的样本\n",
    "\n",
    "label = matcontent['labels'].astype(int).squeeze() - 1   #matlab begin 1 ,numpy begin 0\n",
    "########################################读取属性特征###########################################################\n",
    "\n",
    "matcontent = sio.loadmat(dataroot + \"/\" + dataset + \"/\" + class_embedding + \"_splits.mat\")\n",
    "\n",
    "    \n",
    "# numpy array index starts from 0, matlab starts from 1\n",
    "trainval_loc = matcontent['trainval_loc'].squeeze() - 1    #squeeze()去掉维度中的1 AxBx1 --->AxB\n",
    "\n",
    "test_seen_loc = matcontent['test_seen_loc'].squeeze() - 1\n",
    "test_unseen_loc = matcontent['test_unseen_loc'].squeeze() - 1\n",
    "\n",
    "attribute = matcontent['att'].T    #转置 50x85 每行是整个属性向量\n",
    "\n",
    "x = feature[trainval_loc]                      # train_features trainval里面是图片的编号 begin with 0 ，19832个\n",
    "train_label = label[trainval_loc].astype(int)  # train_label  int类型没变 每个图片的lable 19832个\n",
    "train_id = np.unique(train_label)\n",
    "\n",
    "att = attribute[train_label]                   # train attributes 每个图片的属性 19832个\n",
    "    \n",
    "x_test = feature[test_unseen_loc]                   # test_feature 5685个\n",
    "test_label = label[test_unseen_loc].astype(int)     # test_label   5685个\n",
    "\n",
    "x_test_seen = feature[test_seen_loc]                #test_seen_feature 4958个\n",
    "test_label_seen = label[test_seen_loc].astype(int)  # test_seen_label  4958个\n",
    "    \n",
    "test_id = np.unique(test_label)                     # test_id  10个类 ，unique去重\n",
    "att_pro = attribute[test_id]                        # test_attribute 每一类的属性向量 10x85\n",
    "\n",
    "# train set\n",
    "train_features = torch.from_numpy(x)   #np-->tensor\n",
    "#train_fearures_negative = torch.from_numpy(x_negative)\n",
    "\n",
    "sample_attributes=[]\n",
    "train_label = torch.from_numpy(train_label).unsqueeze(1) #每张图片的属性转化 ，unsqueeze(1)就是插入到第一维度 AxB维-->Ax1xB\n",
    "#train_negative_label = torch.from_numpy(x_negative_label).unsqueeze(1)\n",
    "# attributes\n",
    "all_attributes = np.array(attribute)  #所有50类属性转变为numpy数组???属性向量仍然用的numpy类型 没有转化为pytorch\n",
    "#print(all_attributes)\n",
    "    \n",
    "#print('-'*50)\n",
    "attributes = torch.from_numpy(attribute) \n",
    "#print(attribute)\n",
    "# test set\n",
    "\n",
    "test_features = torch.from_numpy(x_test)\n",
    "#print(test_features.shape)\n",
    "\n",
    "test_label = torch.from_numpy(test_label).unsqueeze(1)\n",
    "#print(test_label.shape)\n",
    "\n",
    "testclasses_id = np.array(test_id)\n",
    "#print(testclasses_id.shape)\n",
    "\n",
    "test_attributes = torch.from_numpy(att_pro).float()\n",
    "#print(test_attributes.shape)\n",
    "\n",
    "test_seen_features = torch.from_numpy(x_test_seen)\n",
    "#print(test_seen_features.shape)\n",
    "\n",
    "test_seen_label = torch.from_numpy(test_label_seen)\n",
    "\n",
    "train_data = TensorDataset( train_label, train_features )\n",
    "#train_data = TensorDataset(train_label, train_features, train_fearures_negative)\n",
    "\n",
    "#################here need new code to make triplet data#####################\n",
    "print('-'*100)"
   ]
  },
  {
   "cell_type": "code",
   "execution_count": 4,
   "metadata": {
    "ExecuteTime": {
     "end_time": "2018-09-03T12:14:58.390043Z",
     "start_time": "2018-09-03T12:14:58.387809Z"
    },
    "collapsed": true
   },
   "outputs": [],
   "source": [
    "class AttributeNetwork(nn.Module):\n",
    "    \n",
    "    def __init__(self, input_size, hidden1_size):\n",
    "        super(AttributeNetwork, self).__init__()\n",
    "        \n",
    "        self.fc1 = nn.Linear(input_size, hidden1_size)   #FC1 network\n",
    "        \n",
    "\n",
    "    def forward(self, x):\n",
    "\n",
    "        x = F.relu(self.fc1(x))      #activate\n",
    "        \n",
    "        return x"
   ]
  },
  {
   "cell_type": "code",
   "execution_count": 5,
   "metadata": {
    "ExecuteTime": {
     "end_time": "2018-09-03T12:15:00.357649Z",
     "start_time": "2018-09-03T12:14:58.390921Z"
    },
    "hide_input": false
   },
   "outputs": [
    {
     "name": "stdout",
     "output_type": "stream",
     "text": [
      "init networks\n",
      "----------------------------------------------------------------------------------------------------\n"
     ]
    }
   ],
   "source": [
    "# init network\n",
    "print(\"init networks\")\n",
    "\n",
    "triplet_network = AttributeNetwork(85,2048)  #85d属性 1024隐藏层 2048输出 85d到2048d\n",
    "triplet_network.cuda(GPU)   \n",
    "\n",
    "triplet_network_optim = torch.optim.SGD(triplet_network.parameters(), lr=LEARNING_RATE)\n",
    "triplet_network_scheduler = StepLR(triplet_network_optim , step_size=100000 , gamma=0.5)\n",
    "#\n",
    "print('-'*100)"
   ]
  },
  {
   "cell_type": "code",
   "execution_count": 6,
   "metadata": {
    "ExecuteTime": {
     "end_time": "2018-09-03T12:15:00.362918Z",
     "start_time": "2018-09-03T12:15:00.359043Z"
    },
    "collapsed": true
   },
   "outputs": [],
   "source": [
    "def _pairwise_distance(x, squared=False, eps=1e-16):\n",
    "    # Compute the 2D matrix of distances between all the embeddings.\n",
    "\n",
    "    cor_mat = torch.matmul(x, x.t())\n",
    "    norm_mat = cor_mat.diag()\n",
    "    distances = norm_mat.unsqueeze(1) - 2 * cor_mat + norm_mat.unsqueeze(0)\n",
    "    distances = F.relu(distances)\n",
    "\n",
    "    if not squared:\n",
    "        mask = torch.eq(distances, 0.0).float()\n",
    "        distances = distances + mask * eps\n",
    "        distances = torch.sqrt(distances)\n",
    "        distances = distances * (1.0 - mask)\n",
    "\n",
    "    return distances\n"
   ]
  },
  {
   "cell_type": "code",
   "execution_count": 22,
   "metadata": {
    "ExecuteTime": {
     "end_time": "2018-09-03T12:35:42.890552Z",
     "start_time": "2018-09-03T12:35:42.872504Z"
    }
   },
   "outputs": [
    {
     "name": "stdout",
     "output_type": "stream",
     "text": [
      "training...\n",
      "[ 0  1  2  5  9 13 14 15 17 19 31 32 34 35 37 38 39 44 45 47]\n",
      "20\n",
      "torch.Size([32, 20])\n",
      "tensor([[ 502.2079,  638.7623,  613.8737,  532.3043,  597.7808,  487.0503,\n",
      "          674.7408,  621.7243,  613.1880,  593.6463,  635.9902,  541.7582,\n",
      "          461.9293,  480.2818,  666.5804,  654.9218,  584.5743,  644.8117,\n",
      "          509.3112,  564.7006],\n",
      "        [ 506.8288,  640.9348,  617.6264,  535.1071,  600.7701,  489.9683,\n",
      "          677.8809,  626.0500,  617.0767,  596.5905,  638.6587,  544.6009,\n",
      "          464.1793,  483.6032,  670.5908,  658.0546,  589.1163,  648.5335,\n",
      "          512.7575,  567.7009],\n",
      "        [ 505.8647,  641.6304,  616.9704,  534.5817,  600.5539,  490.0431,\n",
      "          678.0186,  625.7833,  616.4929,  595.6705,  639.1935,  543.9169,\n",
      "          464.8533,  483.5580,  669.4778,  656.7972,  588.5330,  648.8541,\n",
      "          512.2724,  566.7529],\n",
      "        [ 507.6316,  643.0777,  618.7258,  537.8409,  603.1451,  491.0892,\n",
      "          679.2961,  627.0961,  618.6427,  598.0492,  640.7634,  547.5392,\n",
      "          466.7350,  485.2648,  672.4495,  659.8026,  590.0604,  650.4147,\n",
      "          514.7972,  569.9997],\n",
      "        [ 507.1015,  643.5096,  617.2242,  537.7147,  603.1257,  491.4287,\n",
      "          679.2765,  626.7414,  617.4435,  597.9361,  640.5880,  547.3400,\n",
      "          466.3983,  484.8645,  671.2302,  659.8434,  589.4351,  650.2525,\n",
      "          515.0846,  569.2354],\n",
      "        [ 503.3029,  640.7700,  614.5874,  533.8810,  599.5806,  488.5416,\n",
      "          675.6207,  623.0723,  614.2973,  594.3101,  637.2647,  543.3809,\n",
      "          463.3378,  482.0438,  667.5475,  656.4969,  586.5555,  646.9698,\n",
      "          511.4329,  565.9146],\n",
      "        [ 505.2492,  640.1931,  616.1956,  534.9867,  600.4757,  489.0943,\n",
      "          676.5747,  624.7803,  615.9069,  595.7358,  637.9668,  544.4474,\n",
      "          463.5771,  483.3419,  669.0399,  657.2122,  587.8973,  647.6117,\n",
      "          512.1263,  566.7440],\n",
      "        [ 504.8742,  640.4880,  615.5669,  534.9309,  600.0640,  489.8509,\n",
      "          675.9430,  624.6136,  615.6110,  594.8808,  637.6165,  544.9743,\n",
      "          463.8576,  481.4417,  669.2015,  656.8462,  587.0671,  647.0419,\n",
      "          512.1243,  566.4982],\n",
      "        [ 506.8407,  641.2563,  616.6050,  536.0533,  601.8596,  490.3452,\n",
      "          678.1276,  625.6316,  616.4750,  596.9423,  639.7094,  545.3962,\n",
      "          465.4141,  483.1588,  670.6957,  657.8154,  588.6114,  648.6985,\n",
      "          513.2549,  568.5484],\n",
      "        [ 510.3797,  645.4135,  619.8543,  539.9827,  605.7302,  493.1576,\n",
      "          681.8811,  629.5847,  619.1997,  600.5767,  642.9977,  549.6312,\n",
      "          468.9911,  487.1050,  674.5015,  662.0247,  593.1061,  651.9218,\n",
      "          517.2612,  572.0124],\n",
      "        [ 507.2628,  642.2084,  617.9034,  536.8127,  602.2466,  490.8474,\n",
      "          678.7549,  626.3066,  616.9971,  596.5891,  639.7543,  546.4005,\n",
      "          465.5950,  484.0386,  670.9960,  658.7443,  589.5871,  649.4177,\n",
      "          514.4217,  568.2847],\n",
      "        [ 502.9550,  639.1261,  613.6828,  532.5385,  598.1426,  486.4411,\n",
      "          674.6125,  622.1902,  613.6857,  593.0343,  636.2213,  541.9764,\n",
      "          461.9096,  480.3791,  666.9530,  655.3231,  585.6277,  645.8174,\n",
      "          509.8006,  564.8693],\n",
      "        [ 503.2945,  637.2338,  613.8378,  531.6588,  597.2340,  487.4594,\n",
      "          673.6940,  622.5959,  613.9432,  592.7609,  635.6705,  541.8444,\n",
      "          462.1902,  480.4339,  667.3262,  654.1497,  585.7815,  644.7158,\n",
      "          509.1015,  564.7539],\n",
      "        [ 504.9739,  640.4478,  615.0069,  534.6010,  600.0758,  489.5280,\n",
      "          676.0190,  624.5602,  615.2766,  595.2255,  637.7645,  545.0818,\n",
      "          464.4917,  481.4654,  668.7786,  656.7466,  587.5943,  646.4598,\n",
      "          511.7790,  566.5100],\n",
      "        [ 503.7910,  639.2275,  614.8835,  533.7303,  599.2272,  488.0777,\n",
      "          675.1663,  622.6635,  615.0630,  593.7852,  636.6707,  543.5958,\n",
      "          462.7520,  482.0604,  668.0616,  654.8220,  585.7626,  646.4141,\n",
      "          510.9966,  565.8836],\n",
      "        [ 503.7918,  639.6084,  614.7715,  534.8359,  600.2312,  488.3127,\n",
      "          676.5186,  622.3520,  614.3035,  594.5737,  637.8415,  543.8467,\n",
      "          463.3438,  481.0550,  668.2574,  656.8845,  585.6616,  647.1272,\n",
      "          511.7786,  566.8481],\n",
      "        [ 503.2276,  638.8587,  613.0844,  533.1158,  598.7845,  487.0359,\n",
      "          675.2737,  622.8820,  613.1030,  593.1575,  636.7045,  542.9579,\n",
      "          462.6988,  480.8871,  667.3240,  654.4571,  586.0962,  645.4874,\n",
      "          510.6930,  564.9081],\n",
      "        [ 505.9077,  640.0991,  616.5198,  534.7010,  600.3714,  489.0926,\n",
      "          676.5762,  624.9849,  616.0602,  595.2078,  637.7639,  544.3615,\n",
      "          463.7944,  483.4256,  669.1830,  657.1840,  588.5295,  647.5032,\n",
      "          512.2816,  566.7476],\n",
      "        [ 507.1788,  641.6021,  617.6246,  536.5750,  601.7855,  490.8827,\n",
      "          678.2775,  625.7442,  617.2452,  597.7687,  639.7889,  545.9884,\n",
      "          465.6447,  483.5081,  671.9688,  658.4756,  588.8517,  648.9559,\n",
      "          513.5418,  568.7328],\n",
      "        [ 509.9383,  644.9135,  620.2023,  539.5245,  604.7947,  492.9002,\n",
      "          681.1083,  629.1956,  619.6812,  599.6118,  642.4489,  548.6998,\n",
      "          468.3438,  486.5350,  674.4018,  662.1487,  592.3567,  652.2687,\n",
      "          516.6534,  571.7370],\n",
      "        [ 510.7295,  645.0377,  620.1381,  539.1501,  604.8698,  493.9517,\n",
      "          681.5322,  630.0570,  619.8976,  600.7883,  642.7661,  549.2774,\n",
      "          468.6432,  487.0620,  674.6672,  661.7188,  593.4615,  651.7383,\n",
      "          516.5748,  571.7676],\n",
      "        [ 506.0225,  640.4982,  615.9326,  535.2095,  600.5692,  488.6301,\n",
      "          676.8304,  624.2827,  615.2317,  595.8752,  638.3582,  543.6793,\n",
      "          463.7759,  482.6507,  669.6218,  656.7404,  587.4123,  647.7281,\n",
      "          512.0971,  567.4118],\n",
      "        [ 506.9881,  642.5512,  617.6861,  537.0875,  602.7294,  490.2841,\n",
      "          678.1205,  626.3513,  617.0063,  597.1212,  639.7770,  546.9030,\n",
      "          466.2738,  484.3909,  671.4797,  659.4196,  589.4359,  649.3705,\n",
      "          514.4494,  569.3528],\n",
      "        [ 509.3571,  644.6219,  619.2885,  538.5627,  604.4024,  492.4103,\n",
      "          680.6941,  628.9457,  618.8682,  599.5753,  642.3364,  547.9349,\n",
      "          467.7952,  485.9990,  673.3770,  661.2036,  591.7696,  651.6056,\n",
      "          516.0535,  570.9467],\n",
      "        [ 498.9145,  633.8563,  608.8713,  528.9260,  594.7692,  482.4120,\n",
      "          669.9943,  618.6878,  608.7059,  588.2963,  631.2556,  539.0820,\n",
      "          458.7862,  476.9766,  663.1599,  651.1912,  582.4858,  640.5879,\n",
      "          506.3238,  561.4943],\n",
      "        [ 506.4066,  638.9361,  615.4563,  534.3367,  599.9617,  489.1950,\n",
      "          677.0618,  624.7627,  614.7227,  596.1360,  637.6340,  544.6866,\n",
      "          464.6683,  482.7684,  670.6862,  656.4976,  588.6719,  647.3258,\n",
      "          511.4775,  566.9523],\n",
      "        [ 504.3152,  639.1481,  613.8378,  534.4661,  599.7089,  486.7487,\n",
      "          675.5692,  622.2273,  613.6382,  593.3787,  637.1188,  544.1492,\n",
      "          463.7785,  480.8459,  668.8472,  655.4391,  585.7975,  646.3871,\n",
      "          511.4396,  566.4592],\n",
      "        [ 509.0223,  643.2422,  619.4269,  537.2877,  603.0629,  491.8875,\n",
      "          679.8152,  628.2446,  618.8133,  598.8275,  641.0479,  546.2750,\n",
      "          466.5362,  485.4420,  673.0513,  660.1492,  591.3049,  650.7361,\n",
      "          514.6553,  569.9298],\n",
      "        [ 507.5431,  643.3734,  618.4715,  537.3151,  603.3566,  491.2496,\n",
      "          679.9613,  627.1045,  618.1369,  598.1462,  641.3004,  547.5942,\n",
      "          467.4573,  485.1076,  671.8720,  660.0914,  590.8583,  650.3870,\n",
      "          514.8077,  570.3611],\n",
      "        [ 509.6346,  644.2979,  619.5172,  538.2050,  603.7914,  492.5518,\n",
      "          680.9690,  628.9584,  618.9538,  599.5913,  642.0356,  548.0745,\n",
      "          467.7124,  485.9396,  673.0611,  661.2473,  592.4140,  651.1101,\n",
      "          515.9326,  570.4300],\n",
      "        [ 506.2955,  641.4623,  616.3683,  536.6633,  601.8549,  489.6071,\n",
      "          677.3502,  625.5584,  615.7941,  596.6505,  639.5380,  546.2658,\n",
      "          465.5514,  483.8295,  670.9705,  657.8497,  589.0647,  648.5682,\n",
      "          514.1003,  568.6651],\n",
      "        [ 510.3998,  644.6358,  620.3187,  539.1057,  604.6141,  493.4990,\n",
      "          681.6614,  629.1296,  619.9159,  600.1598,  642.5193,  548.0807,\n",
      "          468.0566,  486.7182,  674.1625,  661.4725,  592.7080,  651.5135,\n",
      "          516.7486,  570.7588]], device='cuda:0')\n"
     ]
    }
   ],
   "source": [
    "print(\"training...\")\n",
    "last_accuracy = 0.0\n",
    "for episode in range(EPISODE):\n",
    "    #attribute_network.train()\n",
    "    triplet_network_scheduler.step(episode)\n",
    "\n",
    "    train_loader = DataLoader(train_data, batch_size=BATCH_SIZE, shuffle=True)\n",
    "\n",
    "    batch_labels, batch_features = train_loader.__iter__().next()\n",
    "    batch_id = np.unique(batch_labels)\n",
    "    print(batch_id)\n",
    "    print(batch_id.size)\n",
    "    #batch_attributes = torch.Tensor([all_attributes[i] for i in batch_labels.numpy()]).squeeze(1)\n",
    "    batch_attributes = torch.Tensor([all_attributes[i] for i in batch_id]).squeeze(1)\n",
    "    \n",
    "    batch_features_ext = torch.from_numpy(batch_features.numpy().repeat(batch_id.size, 0))\n",
    "    batch_attributes_ext = batch_attributes.repeat(BATCH_SIZE, 1)\n",
    "    \n",
    "    #print(batch_features_ext)\n",
    "    #print(batch_attributes_ext)\n",
    "    \n",
    "    batch_features_ext = Variable(batch_features_ext).cuda(GPU).float()  # 32*2048\n",
    "    batch_attributes_ext = Variable(batch_attributes_ext).cuda(GPU)\n",
    "\n",
    "    relations = F.pairwise_distance(batch_features_ext,triplet_network(batch_attributes_ext),2).view(-1,batch_id.size)\n",
    "    print(relations.size())\n",
    "    print(relations)\n",
    "    "
   ]
  },
  {
   "cell_type": "code",
   "execution_count": null,
   "metadata": {
    "collapsed": true
   },
   "outputs": [],
   "source": []
  },
  {
   "cell_type": "code",
   "execution_count": null,
   "metadata": {
    "collapsed": true
   },
   "outputs": [],
   "source": []
  }
 ],
 "metadata": {
  "hide_input": false,
  "kernelspec": {
   "display_name": "Python 3",
   "language": "python",
   "name": "python3"
  },
  "language_info": {
   "codemirror_mode": {
    "name": "ipython",
    "version": 3
   },
   "file_extension": ".py",
   "mimetype": "text/x-python",
   "name": "python",
   "nbconvert_exporter": "python",
   "pygments_lexer": "ipython3",
   "version": "3.5.5"
  }
 },
 "nbformat": 4,
 "nbformat_minor": 2
}
